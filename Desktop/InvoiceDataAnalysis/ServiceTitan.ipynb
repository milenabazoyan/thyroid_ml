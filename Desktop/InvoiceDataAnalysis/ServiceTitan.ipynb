{
 "cells": [
  {
   "cell_type": "code",
   "execution_count": 1,
   "id": "f72327e4",
   "metadata": {},
   "outputs": [],
   "source": [
    "import pandas as pd\n",
    "from dateutil.parser import parse"
   ]
  },
  {
   "cell_type": "code",
   "execution_count": 2,
   "id": "bfd6e0ec",
   "metadata": {},
   "outputs": [],
   "source": [
    "invoices = pd.read_pickle(\"invoices_new.pkl\")\n",
    "#invoices"
   ]
  },
  {
   "cell_type": "code",
   "execution_count": 3,
   "id": "00dd309e",
   "metadata": {},
   "outputs": [],
   "source": [
    "with open(\"expired_invoices.txt\",'r') as file:\n",
    "    expired_invoice_id = file.read().split(',')\n",
    "\n",
    "#expired_invoice_id"
   ]
  },
  {
   "cell_type": "code",
   "execution_count": 4,
   "id": "0a94c7e5",
   "metadata": {},
   "outputs": [],
   "source": [
    "#Converting Expired Invoice Id-s to int type\n",
    "expired_invoice_id = [int(id.strip()) for id in expired_invoice_id]"
   ]
  },
  {
   "cell_type": "code",
   "execution_count": 5,
   "id": "d5894aec",
   "metadata": {},
   "outputs": [
    {
     "name": "stdout",
     "output_type": "stream",
     "text": [
      "The first five expired invoice id-s:\n",
      "[305869, 377307, 391273, 385290, 331902]\n"
     ]
    }
   ],
   "source": [
    "print(\"The first five expired invoice id-s:\")\n",
    "print(expired_invoice_id[:5])"
   ]
  },
  {
   "cell_type": "code",
   "execution_count": 6,
   "id": "29549094",
   "metadata": {},
   "outputs": [
    {
     "name": "stdout",
     "output_type": "stream",
     "text": [
      "Type of Invoice data: <class 'list'>\n",
      "Num of the invoices: 100\n"
     ]
    }
   ],
   "source": [
    "print(\"Type of Invoice data:\", type(invoices))\n",
    "print(\"Num of the invoices:\", len(invoices))"
   ]
  },
  {
   "cell_type": "code",
   "execution_count": 8,
   "id": "6659f1e8",
   "metadata": {},
   "outputs": [],
   "source": [
    "def clean_data(invoices):\n",
    "    cleaned_invoices = []\n",
    "    for invoice in invoices:\n",
    "        if 'id' not in invoice or 'created_on' not in invoice or 'items' not in invoice:\n",
    "            continue\n",
    "        \n",
    "        #invoice_id to int type\n",
    "        invoice_id = invoice.get('id')\n",
    "        if isinstance(invoice_id, str):\n",
    "            try:\n",
    "                invoice_id = int(invoice_id)\n",
    "            except ValueError:\n",
    "                continue\n",
    "        \n",
    "        #parsing and validating date\n",
    "        try:\n",
    "            created_on = parse(invoice.get('created_on'))\n",
    "            if created_on.day > 28:  #simple way to fix invalid dates\n",
    "                continue\n",
    "        except ValueError:\n",
    "            continue\n",
    "        \n",
    "        #validating and cleaning items\n",
    "        cleaned_items = []\n",
    "        for item in invoice['items']:\n",
    "            try:\n",
    "                item_id = int(item['item']['id'])\n",
    "                unit_price = float(item['item']['unit_price'])\n",
    "                quantity = float(item['quantity'])\n",
    "                item['item']['id'] = item_id\n",
    "                item['item']['unit_price'] = unit_price\n",
    "                item['quantity'] = quantity\n",
    "                cleaned_items.append(item)\n",
    "            except (ValueError, TypeError, KeyError):\n",
    "                continue\n",
    "        \n",
    "        #kepping invoices with valid items\n",
    "        if cleaned_items:\n",
    "            invoice['id'] = invoice_id\n",
    "            invoice['created_on'] = created_on\n",
    "            invoice['items'] = cleaned_items\n",
    "            cleaned_invoices.append(invoice)\n",
    "    \n",
    "    return cleaned_invoices"
   ]
  },
  {
   "cell_type": "code",
   "execution_count": 10,
   "id": "d7eef457",
   "metadata": {},
   "outputs": [],
   "source": [
    "class DataExtractor:\n",
    "    def __init__(self, invoice_file_path, expired_ids_file_path):\n",
    "        self.invoice_file_path = invoice_file_path\n",
    "        self.expired_ids_file_path = expired_ids_file_path\n",
    "        self.invoices = None\n",
    "        self.expired_invoice_ids = None\n",
    "        self.data = None\n",
    "    \n",
    "    def load_data(self):\n",
    "        self.invoices = pd.read_pickle(self.invoice_file_path)\n",
    "        self.invoices = clean_data(self.invoices)\n",
    "        \n",
    "        with open(self.expired_ids_file_path, 'r') as file:\n",
    "            self.expired_invoice_ids = [int(id.strip()) for id in file.read().split(',')]\n",
    "    \n",
    "    def transform_data(self):\n",
    "        invoice_records = []\n",
    "        type_conversion = {0: 'Material', 1: 'Equipment', 2: 'Service', 3: 'Other'}\n",
    "        \n",
    "        for invoice in self.invoices:\n",
    "            invoice_id = invoice.get('id')\n",
    "            created_on = pd.to_datetime(invoice.get('created_on'), errors='coerce')\n",
    "            \n",
    "            total_invoice_price = sum(item['item']['unit_price'] * item['quantity'] for item in invoice['items'])\n",
    "            \n",
    "            is_expired = invoice_id in self.expired_invoice_ids\n",
    "            \n",
    "            for item in invoice['items']:\n",
    "                item_id = item['item']['id']\n",
    "                item_name = item['item']['name']\n",
    "                item_type = type_conversion.get(item['item']['type'], 'Other')\n",
    "                unit_price = item['item']['unit_price']\n",
    "                quantity = item['quantity']\n",
    "                total_price = unit_price * quantity\n",
    "                percentage_in_invoice = total_price / total_invoice_price if total_invoice_price > 0 else 0\n",
    "\n",
    "                invoice_records.append({\n",
    "                    'invoice_id': invoice_id,\n",
    "                    'created_on': created_on,\n",
    "                    'invoiceitem_id': item_id,\n",
    "                    'invoiceitem_name': item_name,\n",
    "                    'type': item_type,\n",
    "                    'unit_price': unit_price,\n",
    "                    'total_price': total_price,\n",
    "                    'percentage_in_invoice': percentage_in_invoice,\n",
    "                    'is_expired': is_expired\n",
    "                })\n",
    "        \n",
    "        self.data = pd.DataFrame(invoice_records)\n",
    "        self.data = self.data.astype({\n",
    "            'invoice_id': int,\n",
    "            'created_on': 'datetime64[ns]',\n",
    "            'invoiceitem_id': int,\n",
    "            'invoiceitem_name': str,\n",
    "            'type': str,\n",
    "            'unit_price': int,\n",
    "            'total_price': int,\n",
    "            'percentage_in_invoice': float,\n",
    "            'is_expired': bool\n",
    "        })\n",
    "        self.data.sort_values(by=['invoice_id', 'invoiceitem_id'], inplace=True)\n",
    "    \n",
    "    def get_transformed_data(self):\n",
    "        return self.data"
   ]
  },
  {
   "cell_type": "code",
   "execution_count": 11,
   "id": "853264db",
   "metadata": {},
   "outputs": [],
   "source": [
    "invoice_path = \"invoices_new.pkl\"\n",
    "expired_ids_path = \"expired_invoices.txt\""
   ]
  },
  {
   "cell_type": "code",
   "execution_count": 12,
   "id": "8a4122f7",
   "metadata": {},
   "outputs": [],
   "source": [
    "extractor = DataExtractor(invoice_path, expired_ids_path)\n",
    "extractor.load_data()\n",
    "extractor.transform_data()\n",
    "transformed_data = extractor.get_transformed_data()"
   ]
  },
  {
   "cell_type": "code",
   "execution_count": 13,
   "id": "a5e8e0d4",
   "metadata": {},
   "outputs": [
    {
     "name": "stdout",
     "output_type": "stream",
     "text": [
      "     invoice_id created_on  invoiceitem_id invoiceitem_name       type  \\\n",
      "259      301695 2019-04-26          103215        ii_103215      Other   \n",
      "257      301695 2019-04-26          166227        ii_166227  Equipment   \n",
      "260      301695 2019-04-26          171394        ii_171394      Other   \n",
      "258      301695 2019-04-26          195625        ii_195625      Other   \n",
      "104      304245 2019-03-17          121446        ii_121446    Service   \n",
      "\n",
      "     unit_price  total_price  percentage_in_invoice  is_expired  \n",
      "259         135          945               0.374851       False  \n",
      "257         118          708               0.280841       False  \n",
      "260         128          128               0.050774       False  \n",
      "258         148          740               0.293534       False  \n",
      "104         158          632               0.128429       False  \n"
     ]
    }
   ],
   "source": [
    "#transformed invoices into a csv file\n",
    "transformed_data.to_csv(\"transformed_invoices.csv\", index=False)\n",
    "\n",
    "print(transformed_data.head())"
   ]
  }
 ],
 "metadata": {
  "kernelspec": {
   "display_name": "Python 3 (ipykernel)",
   "language": "python",
   "name": "python3"
  },
  "language_info": {
   "codemirror_mode": {
    "name": "ipython",
    "version": 3
   },
   "file_extension": ".py",
   "mimetype": "text/x-python",
   "name": "python",
   "nbconvert_exporter": "python",
   "pygments_lexer": "ipython3",
   "version": "3.9.7"
  }
 },
 "nbformat": 4,
 "nbformat_minor": 5
}
